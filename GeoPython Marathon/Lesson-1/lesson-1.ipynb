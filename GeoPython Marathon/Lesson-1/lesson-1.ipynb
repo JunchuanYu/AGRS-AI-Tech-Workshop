{
 "cells": [
  {
   "cell_type": "markdown",
   "metadata": {},
   "source": [
    "# **🌍 GeoPython Marathon：** From Basics to Deep Learning for Geoscientists\n",
    "\n",
    "- **📅 课程名称**：GeoPython101：课程介绍与环境配置\n",
    "- **👨‍🏫 分享人**：于峻川\n",
    "- **📅 课程时间**：2025年 5 月16 日"
   ]
  },
  {
   "cell_type": "markdown",
   "metadata": {},
   "source": [
    "[<img src=\"./image/L101/0.jpg\" width=\"600\">]()"
   ]
  },
  {
   "cell_type": "markdown",
   "metadata": {},
   "source": [
    "### 🎯**1. 课程介绍**"
   ]
  },
  {
   "cell_type": "markdown",
   "metadata": {},
   "source": [
    "#### 🔍 **1.1 为什么学习Python？**"
   ]
  },
  {
   "cell_type": "markdown",
   "metadata": {
    "slideshow": {
     "slide_type": "subslide"
    }
   },
   "source": [
    "[<img src=\"./image/L101/6.jpg\" width=\"600\">]()\n",
    "[<img src=\"./image/L101/7.jpg\" width=\"600\">]()"
   ]
  },
  {
   "cell_type": "markdown",
   "metadata": {},
   "source": [
    "#### 📜**1.2 课程大纲**"
   ]
  },
  {
   "cell_type": "markdown",
   "metadata": {},
   "source": [
    "\n",
    "- 面向遥感、物探、地质从业人员，提供Python与深度学习入门知识，提升AI4S基础能力\n",
    "- 打造跨学科AI人才孵化平台，推动智能化能力建设\n",
    "\n",
    "<table>\n",
    "    <tr>\n",
    "        <th>阶段</th>\n",
    "        <th>课程编号</th>\n",
    "        <th>课程名称</th>\n",
    "    </tr>\n",
    "    <tr>\n",
    "        <td rowspan=\"3\"><strong>Python基础</strong></td>\n",
    "        <td>1.1</td>\n",
    "        <td>Python基本语法</td>\n",
    "    </tr>\n",
    "    <tr>\n",
    "        <td>1.2</td>\n",
    "        <td>常用库函数</td>\n",
    "    </tr>\n",
    "    <tr>\n",
    "        <td>1.3</td>\n",
    "        <td>文件读写处理</td>\n",
    "    </tr>\n",
    "    <tr>\n",
    "        <td rowspan=\"4\"><strong>进阶篇</strong></td>\n",
    "        <td>2.1</td>\n",
    "        <td>遥感数据处理-P1</td>\n",
    "    </tr>\n",
    "    <tr>\n",
    "        <td>2.2</td>\n",
    "        <td>遥感数据处理-P2</td>\n",
    "    </tr>\n",
    "    <tr>\n",
    "        <td>2.3</td>\n",
    "        <td>物探数据处理-P1</td>\n",
    "    </tr>\n",
    "    <tr>\n",
    "        <td>2.4</td>\n",
    "        <td>物探数据处理-P2</td>\n",
    "    </tr>\n",
    "    <tr>\n",
    "        <td rowspan=\"5\"><strong>AI篇</strong></td>\n",
    "        <td>3.1</td>\n",
    "        <td>机器学习基础</td>\n",
    "    </tr>\n",
    "    <tr>\n",
    "        <td>3.2</td>\n",
    "        <td>神经网络与反向传播</td>\n",
    "    </tr>\n",
    "    <tr>\n",
    "        <td>3.3</td>\n",
    "        <td>深度学习基础</td>\n",
    "    </tr>\n",
    "    <tr>\n",
    "        <td>3.4</td>\n",
    "        <td>深度学习进阶-P1</td>\n",
    "    </tr>\n",
    "    <tr>\n",
    "        <td>3.5</td>\n",
    "        <td>深度学习进阶-P2</td>\n",
    "    </tr>\n",
    "</table>\n",
    "\n",
    "> 💡 **说明**:课程具体内容可根据实际情况调整\n",
    "\n"
   ]
  },
  {
   "cell_type": "markdown",
   "metadata": {},
   "source": [
    "#### 📝**1.3 课程要求**"
   ]
  },
  {
   "cell_type": "markdown",
   "metadata": {},
   "source": [
    "\n",
    "**基本安排**\n",
    "- 课程以线下形式为主，授课均以jupyter为媒介\n",
    "- 所有课程视频与相关材料将同步至Github(https://github.com/JunchuanYu/AI-Tech-Workshop)和航遥内部FTP（ftp://172.25.13.69/aitech/AITechWorkshop/）；\n",
    "- 课程采用共建方式，邀请有开发经验的同事作为主讲人，希望大家积极参与；\n",
    "- 每次授课的地点和具体时间会在课程开始前公布，请大家关注微信群通知。\n",
    "\n",
    "\n"
   ]
  },
  {
   "cell_type": "markdown",
   "metadata": {},
   "source": [
    "### ⚙️2. 环境配置"
   ]
  },
  {
   "cell_type": "markdown",
   "metadata": {},
   "source": [
    "#### 📥**2.1 Anaconda安装**\n"
   ]
  },
  {
   "cell_type": "markdown",
   "metadata": {},
   "source": [
    "\n",
    "- 官网[https://www.anaconda.com/download/success](https://www.anaconda.com/download/success)下载Anaconda\n",
    "\n",
    "<div align=\"center\">\n",
    "  <img src=\"./image/L101/1.jpg\" width=\"500\">\n",
    "</div>\n",
    "\n",
    "- 依次按照提示安装，需要注意勾选注册为系统路径\n",
    "\n",
    "<div align=\"center\">\n",
    "  <img src=\"./image/L101/2.jpg\" width=\"500\">\n",
    "</div>\n",
    "\n",
    "- 安装完成后，在开始菜单中找到Anaconda Prompt，打开命令行界面，输入下面指令，输出conda版本号即安装成功\n",
    "\n",
    "  ```bash\n",
    "  conda --version\n",
    "  \n",
    "  \n",
    "<div align=\"center\">\n",
    "  <img src=\"./image/L101/3.jpg\" width=\"500\">\n",
    "</div>"
   ]
  },
  {
   "cell_type": "markdown",
   "metadata": {},
   "source": [
    "#### 🐍**2.2 虚拟环境管理**"
   ]
  },
  {
   "cell_type": "markdown",
   "metadata": {},
   "source": [
    "\n",
    "- 创建一个Python版本为3.10，且名为geopy的虚拟环境\n",
    "\n",
    "  ```bash\n",
    "  !conda create -n geopy python==3.10 -y \n",
    "- 激活该环境\n",
    "  ```bash\n",
    "  !conda activate geopy\n",
    "- 切换为Base环境\n",
    "  ```bash\n",
    "  !conda activate base \n",
    "- 删除geopy环境\n",
    "  ```bash\n",
    "  !conda remove -n geopy --all -y"
   ]
  },
  {
   "cell_type": "markdown",
   "metadata": {},
   "source": [
    "- 在geopy环境中安装numpy库\n",
    "  ```bash \n",
    "  !pip install numpy \n",
    "- 安装ipython\n",
    "  ```bash\n",
    "  !pip install ipython \n",
    "- 查看已安装的库\n",
    "  ```bash\n",
    "  !pip list\n"
   ]
  },
  {
   "cell_type": "markdown",
   "metadata": {},
   "source": [
    "#### 💻2.3 VsCode安装使用\n"
   ]
  },
  {
   "cell_type": "markdown",
   "metadata": {},
   "source": [
    "- 官网[https://code.visualstudio.com/Download](https://code.visualstudio.com/Download)下载VsCode进行安装\n",
    "\n",
    "<div align=\"center\">\n",
    "  <img src=\"./image/L101/4.jpg\" width=\"500\">\n",
    "</div>\n",
    "\n",
    "- 安装完成后，打开VsCode，点击左侧的扩展，搜索并安装Python、Jupyter插件，然后点击重新加载，等待插件安装完成。\n",
    "\n",
    "- 插件库是VsCode的一大特色，通过安装必要的插件，可以极大提高编程效率。下面提供了一下几个常用的插件：\n",
    "  - **Local History**：Py文件历史版本自动保存\n",
    "  - **Highlight**：代码高亮\n",
    "  - **Github**: Github代码同步与管理\n",
    "  - **markdown all in one**：Markdown语言的支持\n",
    "  - **Trae AI**：豆包代码补全与大模型问答\n",
    "  - **Cline**：大模型问答，可使用本地大模型\n",
    "\n",
    "- 在电脑任意位置新建一个文件夹名为**Lesson-1**,并在VsCode中选择左侧第一个文件图标，点击**Open Folder**打开该文件夹，即新建了一个工程。\n"
   ]
  },
  {
   "cell_type": "markdown",
   "metadata": {},
   "source": [
    "#### ✏️2.4 Jupyter Notebook操作\n"
   ]
  },
  {
   "cell_type": "markdown",
   "metadata": {},
   "source": [
    "jupyter notebook是一个交互式的笔记本，支持运行代码，显示结果，以及图标可视化，以及markdown文本。被广泛用于Python教学、数据分析和报告编写中。\n",
    "\n",
    "- 按住**Ctrl+ Alt +P**，调出VsCode快捷指令，搜索jupyter，点击**Create：New Jupyter Notebook**，将自动创建一个新的jupyter文件，将该文件另存到刚刚新建的**Lesson-1**文件夹中并命名为**hello.ipunb**。 \n",
    "\n",
    "<div align=\"center\">\n",
    "  <img src=\"./image/L101/5.jpg\" width=\"500\">\n",
    "</div>\n"
   ]
  },
  {
   "cell_type": "markdown",
   "metadata": {},
   "source": [
    "\n",
    "- Jupyter中Cell的基本操作：\n",
    "   - 快捷键 **Y**：将当前cell切换为**Code**模式\n",
    "   - 快捷键 **M**：将当前cell切换为**Markdown**模式\n",
    "   - 右下角可以进行手动切换两种模式\n",
    "   - **Shift + Enter**：执行当前cell并跳转到下一个cell\n",
    "   - **Ctrl + Enter**：执行当前cell并保持焦点\n",
    "   - 插入cell：**A**（上方插入），**B**（下方插入）\n",
    "   - 删除cell：连续按两次 **D**\n",
    "   - 复制/粘贴cell：**C** + **V**\n"
   ]
  },
  {
   "cell_type": "markdown",
   "metadata": {},
   "source": [
    "#### 📘2.5 Markdown基本语法规则\n"
   ]
  },
  {
   "cell_type": "markdown",
   "metadata": {},
   "source": [
    "以下是一些常用的Markdown语法规则，本教程已包含大部分Markdown写法，可供参考。"
   ]
  },
  {
   "cell_type": "markdown",
   "metadata": {},
   "source": [
    "\n",
    "- **列表**：\n",
    "   - 无序列表\n",
    "   - 无序列表\n",
    "   1. 有序列表\n",
    "   2. 有序列表\n",
    "<br>"
   ]
  },
  {
   "cell_type": "markdown",
   "metadata": {},
   "source": [
    "- **文本块**：\n",
    " \n",
    "   ```markdown\n",
    "   ### 这是文本块\n",
    "   可以设置文字标题级别\n",
    "   ```\n",
    "<br>"
   ]
  },
  {
   "cell_type": "markdown",
   "metadata": {},
   "source": [
    "- **代码块**：\n",
    " \n",
    "   ```python\n",
    "   print(\"代码块\")\n",
    "   ```"
   ]
  },
  {
   "cell_type": "markdown",
   "metadata": {},
   "source": [
    "- **任务列表**：\n",
    "- [x] GeoPython101\n",
    "- [ ] GeoPython102\n",
    "- [ ] GeoPython102"
   ]
  },
  {
   "cell_type": "markdown",
   "metadata": {},
   "source": [
    "- **表格**：\n",
    "   | 左对齐 | 右对齐 |\n",
    "   |-------|-------|\n",
    "   | 数据1  | 数据2  |"
   ]
  },
  {
   "cell_type": "markdown",
   "metadata": {},
   "source": [
    "- **公式（LaTeX）**：\n",
    "   - 行内公式：`$E=mc^2$` → $E=mc^2$\n",
    "   - 独立公式：\n",
    "     $$\n",
    "     \\sum_{i=1}^n i = \\frac{n(n+1)}{2}\n",
    "     $$"
   ]
  },
  {
   "cell_type": "markdown",
   "metadata": {},
   "source": [
    "- **插入图片**：\n",
    "   - 链接图片：[图片描述](https://www.python.org/static/img/python-logo.png)\n",
    "   - 本地图片：![图片描述](./image/L101/python-logo.png)\n",
    "   - 图片设置：\n",
    "<div style=\"text-align:center\">\n",
    "  <img src=\"./image/L101/python-logo.png\" style=\"height:100px; width:auto\">\n",
    "</div>\n",
    "  \n",
    "- > 💡 提示：在VS Code中使用Jupyter时，需安装【LaTeX Workshop】扩展以获得更好的公式预览效果。"
   ]
  },
  {
   "cell_type": "markdown",
   "metadata": {},
   "source": [
    "#### 2.6 🏁第一个Python代码\n",
    "\n",
    "\n"
   ]
  },
  {
   "cell_type": "markdown",
   "metadata": {},
   "source": [
    "- 将Jupyter Cell中的模式改为Markdown，输入'Hello, Geoscientists!',按**Shift+Enter**执行。看看运行效果！\n",
    "- 在新的Cell中输入一下代码，按**Shift+Enter**执行。注意Cell为Python代码，不是Markdown模式。\n",
    "    ```python\n",
    "    def hello_geo():\n",
    "        print(\"Hello, Geoscientists!\")\n",
    "    hello_geo()"
   ]
  },
  {
   "cell_type": "markdown",
   "metadata": {},
   "source": [
    "### 🚀3. 完成一个小任务\n"
   ]
  },
  {
   "cell_type": "markdown",
   "metadata": {},
   "source": [
    "新建一个名为geopy的虚拟环境，并安装python==3.10 和必要的库文件，在新的虚拟环境下创建一个名为test.ipynb的文件，运用markdown输出一段文字，“Hello World”"
   ]
  }
 ],
 "metadata": {
  "kernelspec": {
   "display_name": "tf20",
   "language": "python",
   "name": "python3"
  },
  "language_info": {
   "codemirror_mode": {
    "name": "ipython",
    "version": 3
   },
   "file_extension": ".py",
   "mimetype": "text/x-python",
   "name": "python",
   "nbconvert_exporter": "python",
   "pygments_lexer": "ipython3",
   "version": "3.7.11"
  },
  "orig_nbformat": 4
 },
 "nbformat": 4,
 "nbformat_minor": 2
}
